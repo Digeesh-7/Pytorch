import torch
import numpy
data = [[1,2],[3,4]]
x_data = torch.tensor(data)

tensor= torch.ones_like(x_data)

tensor.add_(6)

print(tensor)
